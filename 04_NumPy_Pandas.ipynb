{
 "cells": [
  {
   "cell_type": "markdown",
   "id": "4a82abcb",
   "metadata": {},
   "source": [
    "Before you turn this problem in, make sure everything runs as expected. First, **restart the kernel** (in the menubar, select Kernel$\\rightarrow$Restart) and then **run all cells** (in the menubar, select Cell$\\rightarrow$Run All).\n",
    "\n",
    "Make sure you fill in any place that says `YOUR CODE HERE` or \"YOUR ANSWER HERE\", as well as your name and collaborators below:"
   ]
  },
  {
   "cell_type": "code",
   "execution_count": null,
   "id": "2e770651",
   "metadata": {},
   "outputs": [],
   "source": [
    "NAME = \"\"\n",
    "COLLABORATORS = \"\""
   ]
  },
  {
   "cell_type": "markdown",
   "id": "d6a3a2f0",
   "metadata": {},
   "source": [
    "---"
   ]
  },
  {
   "cell_type": "markdown",
   "id": "254f30ce",
   "metadata": {},
   "source": [
    "# NumPy\n",
    "\n",
    "Bestimmte Module haben in Python eine weite Verbreitung erzielt. Ein solches ist [NumPy](https://numpy.org/), welches im Bereich von **Data Science** eine wichtige Rolle spielt. Der Haupgrund dafür ist, dass das Modul effiziente Funktionen zum Umgang mit grossen Datenmengen zur Verfügung stellt.\n",
    "\n",
    "## NumPy Array\n",
    "\n",
    "Das wichtigste Objekt, welches das NumPy Modul zur Verfügung stellt ist das n-dimensionale Array `ndarray`. Ein Array ist im Prinzip eine Sammlung von Zahlen, die aber in verschiedenen Dimensionen angeordnet sind. Das eindimensionale Array (auch Vektor genannt), hat nur eine Dimension, also sind alle Zahlen darin durch einen eindimensionalen Index ansprechbar. Das kennen wir bereits aus der normalen Python Liste, welche im Prinzip auch ein eindimensionales Array ist.\n",
    "\n",
    "Spannender wird es mit mehreren Dimensionen. Bei einem zweidimensionalen Array sind die einzelnen Zahlen über eine Kombination von zwei Indizes ansprechbar. Die einfachste Interpretation eines zweidimensionalen Arrays ist, dass die beiden Dimensionen eine Fläche \"aufspannen\" und die Indizes eine \"Koordinate\" angeben.\n",
    "\n",
    "Da Arrays erst spannend werden, wenn man viele Zahlen hat, müssen wir eine Möglichkeit kennen lernen, solche Arrays zu erzeugen. Am einfachsten geht das mit Zufallszahlen:"
   ]
  },
  {
   "cell_type": "code",
   "execution_count": null,
   "id": "26d83628-b907-45ef-a036-a552e9b5e6bb",
   "metadata": {},
   "outputs": [],
   "source": [
    "import numpy as np\n",
    "\n",
    "array = np.random.randint(low = 0, high = 256, size = (4,8))\n",
    "print(array)"
   ]
  },
  {
   "cell_type": "markdown",
   "id": "682fbda8-7f55-4514-b2cc-ecbf033ca1bd",
   "metadata": {},
   "source": [
    "Zuerst importieren wir das Modul `numpy` unter dem Namen `np`. Dies ist eine Konvention, wir müssten das Modul nicht umbenennen, aber bei den meisten Tutorials und Anleitungen aus dem Internet hat sich diese Namensgebung durchgesetzt. Dann erstellen wir ein Array mit Hilfe von ganzzahligen Zufallszahlen. Die Funktion `randint()` aus dem Objekt `random` aus `np` benötigt ein paar Parameter.\n",
    "\n",
    "Hier sehen wir die Anwendung von sogenannten **Keyword Arguments**, also Schlüsselwort Parametern. Die Parameter werden der Funktion nicht einfach als Abfolge von Zahlen (oder Strings) übergeben, sondern mit Hilfe eines jeweiligen Schlüsselwortes (ähnlich wie wir es aus den Dictionaries kennen). Dies ist insbesondere nützlich, wenn man eine Funktion mit vielen Parametern hat und sich über die Abfolge der Parameter nicht sicher ist. Wenn man Schlüsselwort Parameter verwendet, spielt die Reihenfolge der Parameter keine Rolle. Beim Argument mit dem Namen `size` übergeben wir nicht nur eine einzelne Zahl, sondern geben an, wie viele Dimensionen und wie \"lange\" die jeweilige Dimension sein soll. Die Notation mit `(Zahl1, Zahl2)` nennt man übrigens ein **Tupel** und solche Tupel stellen eine weiter Form der verschiedenen **Data Collection** dar, die Python kennt. Sie sind den Listen sehr ähnlich.\n",
    "\n",
    "Im Beispiel oben erstellen wir also ein zweidimensionales Array mit 4 Zeilen und 8 Spalten gefüllt mit ganzzahligen Zufallsnummern zwischen 0 und 256.\n",
    "\n",
    "Höherdimensionale Arrays werden bei der Darstellung über den `print()` Befehl als Sammlung von zweidimensionalen Arrays ausgegeben und es braucht etwas Übung, die entsprechenden Dimensionen richtig zuzuordnen:"
   ]
  },
  {
   "cell_type": "code",
   "execution_count": null,
   "id": "a91343c9-ca6a-49f0-99c4-9aa822375c66",
   "metadata": {},
   "outputs": [],
   "source": [
    "multi_d_array = np.random.randint(low = 0, high = 256, size = (2,3,4,5))\n",
    "print(multi_d_array)"
   ]
  },
  {
   "cell_type": "markdown",
   "id": "aab5ab7d-d7e3-4810-89bf-0e53d951ce3f",
   "metadata": {},
   "source": [
    "Arrays aus Zahlen erscheinen auf den ersten Blick etwas langweilig (ausser vielleicht für Mathematiker). Arrays können aber hervorragend als Bilddaten interpretiert werden und damit wird auch die Manipulation von Arraydaten interessanter, weil sie eine Änderung des entsprechenden Bildes erzeugen.\n",
    "\n",
    "## Array als Bild interpretieren\n",
    "\n",
    "Nachfolgend erstellen wir ein Array der Dimension 10 auf 10 mit zufälligen Werten zwischen 0 und 255. Dieses Array geben wir mit dem `print()` Befehl aus. Anschliessend nutzen wir die Funktion `imshow()` aus dem Modul `matplotlib.pyplot`, um diese Array Daten als \"Bild\" darzustellen. Die Funktion `imshow()` braucht neben dem Parameter für die eigentlichen Daten, hier `array` eine Angabe, wie die Daten dargestellt werden sollen. `cmap='gray'` bewirkt dabei, dass den Array Werten verschiedene Grautöne zugeordnet werden. Der Befehl `%matplotlib inline` ist ein sogennantes \"Magic Command\" und weist das Jupyter Notebook an, die Ausgabe von `matplotlib` direkt in der dazugehörigen Zelle darzustellen (und nicht in einem eigenen neuen Fenster): "
   ]
  },
  {
   "cell_type": "code",
   "execution_count": null,
   "id": "a20e0987-b73b-4647-8391-c30e65119713",
   "metadata": {},
   "outputs": [],
   "source": [
    "%matplotlib inline\n",
    "\n",
    "import numpy as np\n",
    "from matplotlib import pyplot as plt\n",
    "\n",
    "array = np.random.randint(low = 0, high = 255, size = (10,10))\n",
    "print(array)\n",
    "\n",
    "plt.imshow(array, cmap = 'gray')"
   ]
  },
  {
   "cell_type": "markdown",
   "id": "146dfb89-0150-4a62-ba6d-76b222822d5d",
   "metadata": {},
   "source": [
    "Zahlen aus dem Array mit einem tiefen Wert, werden dunkler dargestellt, solche mit einem hohen Wert dementsprechend heller."
   ]
  },
  {
   "cell_type": "markdown",
   "id": "257cf34c-c31b-44ed-ab89-66a743eb9c9b",
   "metadata": {},
   "source": [
    "## Arrays aus CSV Dateien importieren\n",
    "\n",
    "NumPy beinhaltet eine Funktion, um direkt Daten aus einer CSV Datei in ein Array einzulesen. Die Funktion heisst `genfromtxt()` und braucht als Parameter den Filenamen resp. Pfad zur CSV Datei und den Parameter `delimiter = ','` um zu spezifizieren, mit welchem Zeichen die Daten im CSV getrennt sind (normalerweise `,` oder `;`."
   ]
  },
  {
   "cell_type": "markdown",
   "id": "7d210da6",
   "metadata": {},
   "source": [
    "### Aufgabe\n",
    "\n",
    "Importiere mit Hilfe der Funktion `genfromtxt()` aus dem NumPy Modul die CSV Datei aus `data/array.csv` als Array. Zeige die entsprechenden Daten mit dem `print()` Befehl an."
   ]
  },
  {
   "cell_type": "code",
   "execution_count": null,
   "id": "99a586a6-89f2-4382-a178-3762a067bcbc",
   "metadata": {
    "deletable": false,
    "nbgrader": {
     "cell_type": "code",
     "checksum": "728924ea2f61f2bdd940aa2d9d7775fe",
     "grade": true,
     "grade_id": "cell-1d00568778a6f540",
     "locked": false,
     "points": 0,
     "schema_version": 3,
     "solution": true,
     "task": false
    }
   },
   "outputs": [],
   "source": [
    "# YOUR CODE HERE\n",
    "raise NotImplementedError()"
   ]
  },
  {
   "cell_type": "markdown",
   "id": "2f05585b-e483-4ef7-9d98-b573339b2891",
   "metadata": {},
   "source": [
    "Wenn ein Array ziemlich gross ist, dann wird die Darstellung mit dem `print()` Befehl entsprechend angepasst und man sieht nur einen Ausschnitt aus dem Array. Wir müssen also lernen, einen Überblick über die entsprechenden Array Daten zu gewinnen.\n",
    "\n",
    "Mit dem Attribut `shape` eines ndarray Objektes können wir die Anzahl Dimensionen und ihre jeweilige Grösse eines Arrays anzeigen:"
   ]
  },
  {
   "cell_type": "code",
   "execution_count": null,
   "id": "c88ac668-f1d1-42c6-9361-d38d4ccf79d5",
   "metadata": {},
   "outputs": [],
   "source": [
    "import numpy as np\n",
    "\n",
    "array = np.genfromtxt(\"data/array.csv\", delimiter = \",\")\n",
    "\n",
    "print(array.shape)"
   ]
  },
  {
   "cell_type": "markdown",
   "id": "f9b8912e-0468-4ffb-8546-2ff6f55ee77a",
   "metadata": {},
   "source": [
    "Mit Hilfe der Funktionen `max()` und `min()` können wir das Maximum und das Minimum der Werte des Arrays bestimmen, mit der Funktion `mean()` den Mittelwert:"
   ]
  },
  {
   "cell_type": "code",
   "execution_count": null,
   "id": "6f3cf397-8712-49ab-b009-722cf546734a",
   "metadata": {
    "tags": []
   },
   "outputs": [],
   "source": [
    "print(\"Maximum:\", array.max())\n",
    "print(\"Minimum:\", array.min())\n",
    "print(\"Mittelwert:\", array.mean())"
   ]
  },
  {
   "cell_type": "markdown",
   "id": "ca26298a-7ebc-46e1-a92c-4b2b3cfe1853",
   "metadata": {},
   "source": [
    "Wir sehen also, dass im Array nur Werte zwischen 0 und 1 vorkommen."
   ]
  },
  {
   "cell_type": "markdown",
   "id": "32402b95-e315-405d-a1a5-8d68287aa1b0",
   "metadata": {},
   "source": [
    "## Teile eines Arrays auswerten\n",
    "\n",
    "In der Praxis hat man immer wieder das Problem, dass man nur auf bestimmte Bereiche eines Arrays zugreifen möchte, also beispielsweise auf ein ganz bestimmtes Element oder eine bestimmte Zeile oder Spalte. Dies können wir mit einer Notation machen, wie wir sie schon von Listen her kennen.\n",
    "\n",
    "Zugriff auf ein bestimmtes Element, hier das Element aus der 34. Zeile / 12. Spalte:"
   ]
  },
  {
   "cell_type": "code",
   "execution_count": null,
   "id": "32493036-b87f-4aec-8cd7-21763465d4d0",
   "metadata": {},
   "outputs": [],
   "source": [
    "print(array[34,12])"
   ]
  },
  {
   "cell_type": "markdown",
   "id": "d00ce585-eb4c-4176-b902-f708f64cce9d",
   "metadata": {},
   "source": [
    "Zugriff auf eine bestimmte Zeile, hier die 68. Zeile (Achtung, die Darstellung scheint so, als ob das entsprechende Resultat eine Matrix wäre, es ist aber nur ein eindimensionaler Vektor, der einfach über mehrere Zeilen gebrochen wird. Das erkennt man an den einfachen eckigen Klammern `[]` im Vergleich zur nächsten Aufgabe, wo die Ausgabe mit zwei eckigen Klammerpaaren ist):"
   ]
  },
  {
   "cell_type": "code",
   "execution_count": null,
   "id": "c6225240-1d10-4b22-a634-be06bc0ec816",
   "metadata": {},
   "outputs": [],
   "source": [
    "print(array[68,:])"
   ]
  },
  {
   "cell_type": "markdown",
   "id": "8fc4f0dc-8c4c-44f0-84db-2620b3a813d8",
   "metadata": {},
   "source": [
    "Zugriff auf mehrere bestimmte Zeilen und bestimmte Spalten (Teilmatrix \"ausschneiden\"):"
   ]
  },
  {
   "cell_type": "code",
   "execution_count": null,
   "id": "57b1975d-20a1-4dbd-88b1-e6aa2908b7b0",
   "metadata": {},
   "outputs": [],
   "source": [
    "print(array[8:10,56:58])"
   ]
  },
  {
   "cell_type": "markdown",
   "id": "f0ab042c-c72b-443f-aa90-a5d91f748b45",
   "metadata": {},
   "source": [
    "Mit der Notation mit dem Doppelpunkt `:` kann man also auf einen Teilbereich der Matrix zurückgreifen. Wenn der Doppelpunkt alleine steht, sind damit alle Indizes dieser Dimension gemeint. Vor resp. nach dem Doppelpunkt können der Start- resp. Endpunkt der Indizes dieser Dimension angegeben werden. Man muss berücksichtigen, dass die Indizierung bei 0 startet und dass das Element vor dem Doppelpunkt inklusive ist, das nach dem Doppelpunkt jedoch exklusive."
   ]
  },
  {
   "cell_type": "markdown",
   "id": "fbe0f72d-7d79-41dc-80fb-755be2021327",
   "metadata": {},
   "source": [
    "### Aufgabe:\n",
    "\n",
    "Stelle das bereits oben importierte Array unter `data/array.csv` mit Hilfe der Funktion `imshow()` aus dem Modul `matplotlib.pyplot` als Bild dar."
   ]
  },
  {
   "cell_type": "code",
   "execution_count": null,
   "id": "0416bbc7-2d9c-4772-b56b-cf9718383fac",
   "metadata": {
    "deletable": false,
    "nbgrader": {
     "cell_type": "code",
     "checksum": "0c73b894df5a6506f17e18d984a3ec7a",
     "grade": true,
     "grade_id": "cell-70b3963929df09c2",
     "locked": false,
     "points": 0,
     "schema_version": 3,
     "solution": true,
     "task": false
    }
   },
   "outputs": [],
   "source": [
    "# YOUR CODE HERE\n",
    "raise NotImplementedError()"
   ]
  },
  {
   "cell_type": "markdown",
   "id": "ba3d2cf5-70ca-40c0-a8fa-47e47bf532c0",
   "metadata": {},
   "source": [
    "Wir haben also die ganze Zeit mit einer Matrix gearbeitet, die eigentlich Bilddaten des Bundeshauses enthält. Dies ist ein gutes Beispiel dafür, dass manchmal die grafische Repräsentation von Zahlen sehr viel schneller und gesamtheitlicher zu erfassen ist, als die Zahlen selbst."
   ]
  },
  {
   "cell_type": "markdown",
   "id": "30664fd8-f3b4-45af-bded-ef8ec5b8271e",
   "metadata": {},
   "source": [
    "***"
   ]
  },
  {
   "cell_type": "markdown",
   "id": "54da651d-a7a3-4c6b-9324-3ad3a570b561",
   "metadata": {},
   "source": [
    "## Operationen auf alle Array Elemente anwenden\n",
    "\n",
    "Wir wollen jetzt das Bild des Bundeshauses bearbeiten. Dafür müssen wir die unterliegenden Array Elemente, also die Zahlwerte anpassen. Eine Idee könnte beispielsweise sein, dass wir finden, wir würden gerne die dunkleren Teile des Bundeshauses etwas heller machen. Wir müssten also alle Zahlen, die einen bestimmten Grenzwert unterschreiten (dunkel heisst ja, dass die Zahl klein ist), um einen bestimmten Wert anheben. Dazu müssen wir also jedes Element der Matrix untersuchen und falls der Wert den Grenzwert unterschreitet, diesen Wert anheben. Das könnten wir im Prinzip mit einer verschachtelten For Schleife machen, wo wir Zeilen und Spalten einzeln durchiterieren, aber das Modul NumPy bietet dafür bessere Möglichkeiten:"
   ]
  },
  {
   "cell_type": "code",
   "execution_count": null,
   "id": "d65a8445-13ca-41ee-812a-8639f0640dc5",
   "metadata": {},
   "outputs": [],
   "source": [
    "%matplotlib inline\n",
    "\n",
    "import numpy as np\n",
    "from matplotlib import pyplot as plt\n",
    "\n",
    "array = np.genfromtxt(\"data/array.csv\", delimiter = \",\")\n",
    "\n",
    "def enlight_darkness(number):\n",
    "    if number < 0.2:\n",
    "        return number + 0.2\n",
    "    else:\n",
    "        return number\n",
    "\n",
    "array_light = np.vectorize(enlight_darkness)(array)\n",
    "\n",
    "plt.imshow(array_light, cmap = 'gray', vmin=0, vmax=1)"
   ]
  },
  {
   "cell_type": "markdown",
   "id": "5b1f6bf6-e301-4cae-b15b-bf5433f1e10f",
   "metadata": {},
   "source": [
    "Wir definieren also im obigen Beispiel eine Funktion `enlight_darkness()` welche als Parameter eine Zahl erhält. Wenn diese Zahl kleiner als der Schwellenwert 0.2 ist, soll der Wert um 0.2 erhöht werden, ansonsten soll einfach wieder die Zahl zurückgegeben werden.\n",
    "\n",
    "Diese Funtion wollen wir auf alle Array Elemente anwenden. Dies können wir dadurch erreichen, dass wir die Funktion \"vektorisieren\". Das bedeutet, dass sie tauglich gemacht wird, um gleichzeitig auf mehr als ein Element zu wirken. Wie das geht, darum müssen wir uns nicht kümmern. Das Modul NumPy erhält dafür die Funktion `vectorize()`. Die Zeile `array = np.vectorize(enlight_darkness)(array)` bewirkt also, dass der Variable `array_light` das bestehende `array` zugewiesen wird, auf das aber die Funktion `enlight_darkness` angewandt wurde.\n",
    "\n",
    "Da die Funktion `imshow()` eine automatische \"Normalisierung\" durchführt (das heisst, der dunkelste vorkommende Wert in der Matrix wird einfach schwarz gesetzt, unabhängig davon, welche Zahl dort steht), würden wir den Effekt kaum sehen, um das zu verhindern, können wir mit den Parametern `vmin=0` und `vmax=1` festlegen, dass Schwarz nur der Wert 0 sein soll und Weiss der Wert 1.\n",
    "\n",
    "Den Unterschied zum unbearbeiteten Bild erkennt man nun am besten bei den dunklen Eingangstüren zum Bundeshaus.\n",
    "\n",
    "Herzliche Gratulation. Schon bald bist du in der Lage, eine Konkurrenz zu Adobe Photoshop zu programmieren!"
   ]
  },
  {
   "cell_type": "markdown",
   "id": "359012cf-ee79-4e29-a284-0aa60da0ca93",
   "metadata": {},
   "source": [
    "### Aufgabe\n",
    "\n",
    "Nimm nochmals das Bild vom Bundeshaus und erstelle ein Programm, das den Kontrast des Bildes verändern kann. Kontrast erhöhen bedeutet dabei, dass die dunklen Teile noch dunkler werden und die hellen Teile noch heller.\n",
    "    \n",
    "Hinweis: Es gibt sehr viel verschiedene Möglichkeiten, wie genau man die einzelnen Werte verändern möchte. Der extremste Kontrast erreicht man dadurch, dass alle Werte kleiner eines bestimmten Schwellwerts (bspw. 0.5) auf 0 gesetzt werden und alle anderen auf 1."
   ]
  },
  {
   "cell_type": "code",
   "execution_count": null,
   "id": "f51a7a03-8ab3-4510-b1c0-9f85037524b1",
   "metadata": {
    "deletable": false,
    "nbgrader": {
     "cell_type": "code",
     "checksum": "d64cc37fc0e7f17b29f5cf3f8e478df0",
     "grade": true,
     "grade_id": "cell-12118bdefe03cf0a",
     "locked": false,
     "points": 0,
     "schema_version": 3,
     "solution": true,
     "task": false
    }
   },
   "outputs": [],
   "source": [
    "# YOUR CODE HERE\n",
    "raise NotImplementedError()"
   ]
  },
  {
   "cell_type": "markdown",
   "id": "48dc12a5-e8df-4391-b8ac-5ce2dba0c8e2",
   "metadata": {},
   "source": [
    "***"
   ]
  },
  {
   "cell_type": "markdown",
   "id": "1ccb61de-2686-4322-bd5c-3ff7629f30e3",
   "metadata": {},
   "source": [
    "# Pandas\n",
    "\n",
    "[Pandas](https://pandas.pydata.org/) ist ein Modul, das speziell für die Arbeit mit tabellenartigen Daten (also flat data) erstellt wurde. Das zentrale Element von Pandas ist das **DataFrame**, welches in Zeilen und Spalten unterteilt ist. Im Gegensatz zu einem zweidimensionalen Array aus NumPy, können DataFrames in den verschiedenen Spalten verschiedene Datentypen aufnehmen.\n",
    "\n",
    "## DataFrames erstellen\n",
    "\n",
    "DataFrames können aus einem Dictionary erzeugt werden. Dabei werden die Schlüssel als Spaltenname verwendet und die Listen der Werte als Spalteninhalte:"
   ]
  },
  {
   "cell_type": "code",
   "execution_count": null,
   "id": "2b3db336-4bec-48ac-acf1-73831c39478e",
   "metadata": {},
   "outputs": [],
   "source": [
    "import pandas as pd\n",
    "\n",
    "df = pd.DataFrame(\n",
    "{\n",
    "    \"Name\": [\n",
    "        \"Casimira\",\n",
    "        \"Silvana\",\n",
    "        \"Florentina\"],\n",
    "    \"Matrikelnummer\": [\n",
    "        \"21-203-234\",\n",
    "        \"19-401-012\",\n",
    "        \"12-124-093\"],\n",
    "    \"Note\": [\n",
    "        6,\n",
    "        5.5,\n",
    "        6\n",
    "    ]\n",
    "})\n",
    "\n",
    "display(df)"
   ]
  },
  {
   "cell_type": "markdown",
   "id": "271ce424-42ad-46a6-9dfd-c01e607d0cfd",
   "metadata": {},
   "source": [
    "Die Funktion `display()` bewirkt bei den Tabellen, dass diese übersichtlicher dargestellt werden im Vergleich zu `print()`."
   ]
  },
  {
   "cell_type": "markdown",
   "id": "0b086623-5b75-47b1-aafa-e6f6f0c60e15",
   "metadata": {},
   "source": [
    "## DataFrames aus CSV Dateien einlesen\n",
    "\n",
    "Typischerweise existiert schon irgendwo die tabellarische Darstellung der Daten und wir möchten sie in Python \"hineinladen\", um mit den Daten zu arbeiten. Wenn die Daten als CSV vorhanden sind, spielt es keine Rolle, ob diese Daten auf unserer Festplatte liegen oder direkt aus dem Internet runtergeladen werden. Um CSV Dateien direkt in ein DataFrame zu laden, können wir die Funktion `read_csv()` aus dem Pandas Modul verwenden. Nachfolgend wollen wir die Unfallstatistik aus dem Katon Zürich in unser Jupyter Notebook runterladen. Achtung: Da wir nun mit \"echten\" Daten arbeiten, handelt es sich um eine sehr grosse Datenmenge. Das CSV ist über 70MB gross und je nach Internetverbindung dauert das also einen Moment (solange in der eckigen Klammer neben der Zelle statt einer Zahl ein `*` ist, heisst das, dass der Download noch nicht abgeschlossen ist):"
   ]
  },
  {
   "cell_type": "code",
   "execution_count": null,
   "id": "3d2a2b6e-11c3-4a3d-8341-0759dcb14e3a",
   "metadata": {
    "tags": []
   },
   "outputs": [],
   "source": [
    "import pandas as pd\n",
    "\n",
    "accidents = pd.read_csv('https://www.web.statistik.zh.ch/ogd/daten/ressourcen/KTZH_00000718_00001783.csv', sep = \",\")"
   ]
  },
  {
   "cell_type": "markdown",
   "id": "2af1c067-2b66-4eed-b1e7-5ca48bce67dc",
   "metadata": {},
   "source": [
    "Jetzt möchten wir einen Überblick über die Daten gewinnen und zeigen dafür die Dimension mit dem Attribut `shape` und die ersten 5 Zeilen des DataFrames mit der Funktion `head()` an."
   ]
  },
  {
   "cell_type": "code",
   "execution_count": null,
   "id": "64e1fed0-777a-4064-9dc0-c39aeeb9609e",
   "metadata": {
    "tags": []
   },
   "outputs": [],
   "source": [
    "print(accidents.shape)\n",
    "display(accidents.head(5))"
   ]
  },
  {
   "cell_type": "markdown",
   "id": "69d76859-6cb8-404b-9fcd-3ef7572f5cc7",
   "metadata": {},
   "source": [
    "Wir sehen also, dass die Tabelle knapp 150'000 Zeilen, also Informationen über einzelne Unfälle, beinhaltet und dass jeder Unfall mit 36 verschiedenen Parametern beschrieben wird (wobei viele davon einfach Übersetzungen in die verschiedenen Landessprachen sind).\n",
    "\n",
    "## DataFrames untersuchen\n",
    "\n",
    "Nun wollen wir einen Überblick über das DataFrame gewinnen, dazu stehen uns verschiedene Möglichkeiten offen. Uns interessiert bspw. welcher Unfalltyp wie häufig vorkommt:"
   ]
  },
  {
   "cell_type": "code",
   "execution_count": null,
   "id": "de96c87e-0677-4587-8cc4-fe3319123838",
   "metadata": {
    "tags": []
   },
   "outputs": [],
   "source": [
    "print(accidents['AccidentType_de'].value_counts())"
   ]
  },
  {
   "cell_type": "markdown",
   "id": "e28e76ce-1584-4b22-8959-d9f07165e4a8",
   "metadata": {},
   "source": [
    "Mit der Notation `DataFrame['Spaltenname']` greifen wir auf eine bestimmte Spalte zu und mit der Funktion `value_counts()` zählen wir die verschiedenen in der Spalte vorhandenen Einträge. Um diese Daten schneller interpretieren zu können, können wir diese mit Hilfe der Funktion `plot()` auch gleich grafisch als Plot anzeigen lassen:"
   ]
  },
  {
   "cell_type": "code",
   "execution_count": null,
   "id": "cd1c04e0-c94e-44e9-ba71-95ebb311e91b",
   "metadata": {},
   "outputs": [],
   "source": [
    "accidents['AccidentType_de'].value_counts().plot(kind = 'bar')"
   ]
  },
  {
   "cell_type": "markdown",
   "id": "e23d776a-dbc0-40cb-aa8e-26f40a0e9f46",
   "metadata": {},
   "source": [
    "Das Schlüsselwort Argument `kind = 'bar'` legt in diesem Fall fest, welcher Typ von Plot gezeichnet werden soll. Hier also ein Balkendiagramm. Suche im Internet nach den weiteren möglichen Plot Typen. Hinweis, falls das Googlen nicht klappt: Die Lösung ist [hier](https://pandas.pydata.org/docs/reference/api/pandas.DataFrame.plot.html) zu finden."
   ]
  },
  {
   "cell_type": "markdown",
   "id": "06835846-d019-4d81-abf0-961ed2787291",
   "metadata": {},
   "source": [
    "### Aufagbe\n",
    "\n",
    "Untersuche das DataFrame `accidents` darauf, an welchem Wochentag die meisten Unfälle passieren. Zähle dafür die Anzahl Unfälle für alle Wochentage und stelle dies als Balkendiagramm dar. Wann ist es am sichersten, sich im Verkehr zu bewegen?\n",
    "    \n",
    "Hinweis: Lade `accidents` (aufgrund der Grösse von über 70MB) nicht nochmals ins Notebook rein, sondern greife auf das bestehende DataFrame aus den oberen Zellen zu."
   ]
  },
  {
   "cell_type": "code",
   "execution_count": null,
   "id": "99c3dd71-46b1-4b7d-8613-35a86567612e",
   "metadata": {
    "deletable": false,
    "nbgrader": {
     "cell_type": "code",
     "checksum": "81465c9e29b8179a32fa7a0fd93366d3",
     "grade": true,
     "grade_id": "cell-98343b4fc113154e",
     "locked": false,
     "points": 0,
     "schema_version": 3,
     "solution": true,
     "task": false
    }
   },
   "outputs": [],
   "source": [
    "# YOUR CODE HERE\n",
    "raise NotImplementedError()"
   ]
  },
  {
   "cell_type": "markdown",
   "id": "7d17da27-d9c2-4e98-9db3-ae5caad4c12d",
   "metadata": {},
   "source": [
    "***"
   ]
  },
  {
   "cell_type": "markdown",
   "id": "45bde381-fc95-44e2-95c8-f50093456963",
   "metadata": {},
   "source": [
    "## DataFrames filtern\n",
    "\n",
    "Manchmal will man nicht alle Daten eines DataFrames untersuchen, sondern nur solche, für eine bestimmte Spalte einen bestimmten Wert hat:"
   ]
  },
  {
   "cell_type": "code",
   "execution_count": null,
   "id": "1e798644-3e4e-40de-a3ca-c7079122142b",
   "metadata": {},
   "outputs": [],
   "source": [
    "pedestrian_accidents = accidents[accidents.AccidentType_de == \"Fussgängerunfall\"]\n",
    "\n",
    "pedestrian_accidents[\"AccidentHour\"].value_counts().sort_index().plot(kind = \"bar\")"
   ]
  },
  {
   "cell_type": "markdown",
   "id": "0f2e43bf-fb52-4939-bfa0-022a7f844b35",
   "metadata": {},
   "source": [
    "Hier untersuchen wir also nur Unfälle des Typs \"Fussgängerunfall\". Dann zählen wir die Fussgängerunfälle nach Unfallstunde und zeigen einen Plot an, dabei soll der Plot nicht nach Anzahl der Unfälle sortiert sein, sondern nach Tageszeit. Dies erreichen wir mit `sort_index()`.\n",
    "\n",
    "Bravo, jetzt darfst du dich schon bald als \"Data-Scientist\" bezeichnen."
   ]
  },
  {
   "cell_type": "markdown",
   "id": "d2559664-f45c-4f06-afbd-039554c727e4",
   "metadata": {},
   "source": [
    "## DataFrames gruppieren\n",
    "\n",
    "Manchmal will man nicht nur einfach die Vorkommnisse einer bestimmten Spalte zählen, sondern diese Zählung noch gruppieren nach einer anderen Spalte. Wir möchten also beispielsweise pro Unfallart noch die Schwere der verschiedenen Unfälle zählen. Dieses Vorgehen bezeichnet man als Gruppieren. Innerhalb der Gruppen kann man dann gewisse zusammenfassende Funktionen ausführen. Die häufigste davon ist, dass man die Summe der Vorkommnisse der verschiedenen Gruppen zählen will. Man könnte aber auch bspw. den Mittelwert bilder oder das Maximum oder Minimum bestimmen.\n",
    "\n",
    "Mit Hilfe der Funktion `groupby()` die für Pandas DataFrames verfügbar ist können wir über mehrere Spalten solche Gruppen bilden. Dafür müssen wir der Funktion eine Liste der Spaltennamen übergeben. Auf diese Gruppierung können wir dann mit der Funktion `size()` die einzelnen Anzahlen bestimmen lassen. "
   ]
  },
  {
   "cell_type": "code",
   "execution_count": null,
   "id": "87cca7d1-534c-47d3-b07e-a9ec57686cbd",
   "metadata": {},
   "outputs": [],
   "source": [
    "print(accidents.groupby([\"AccidentType_de\", \"AccidentSeverityCategory_de\"]).size())"
   ]
  },
  {
   "cell_type": "markdown",
   "id": "aa80eae4-cd67-49f3-bd2e-0750a1b96a09",
   "metadata": {},
   "source": [
    "Um die Zahlen besser interpretieren zu können, wäre es hilfreich, nicht die absoluten Anzahlen zu haben, sondern eine prozentuale Angabe, man könnte dann sofort sehen, dass Unfälle mit Getöteten in einer bestimmten Unfallkategorie viel wahrscheinlicher sind als in einer anderen. Dafür müssten wir uns aber noch zusätzliche Fähigkeiten aneignen."
   ]
  },
  {
   "cell_type": "markdown",
   "id": "cc46ea14-0c9b-4ae2-87c7-fb6f5976da6c",
   "metadata": {},
   "source": [
    "# Schlussaufgabe"
   ]
  },
  {
   "cell_type": "markdown",
   "id": "d9048668-51e0-44b3-a509-11d5bb2ab862",
   "metadata": {},
   "source": [
    "Lade die CSV Daten zu den Wahl- und Abstimmungsresultaten in den Jahren 2002-2020 aus dem Kanton St. Gallen unter https://daten.sg.ch/api/v2/catalog/datasets/wahlen-und-abstimmungen-kanton-stgallen/exports/csv als Pandas DataFrame herunter. Die Daten sind mit einem Strichpunkt `;` getrennt. Zeige die ersten 5 Zeilen dieses DataFrames an, um ein Verständnis dafür zu erhalten, wie diese Daten aufgebaut sind.\n",
    "\n",
    "Filtere die Daten, so dass nur Abstimmungen und keine Wahlen vorhanden sind. Erstelle ein gruppiertes Resultat, das anzeigt, auf welcher föderalen Stufe wie viele Abstimmungen angenommen resp. abgelehnt wurden. "
   ]
  },
  {
   "cell_type": "code",
   "execution_count": null,
   "id": "275c3b97-09e8-4ad3-8e26-d0bdedfc15dd",
   "metadata": {
    "deletable": false,
    "nbgrader": {
     "cell_type": "code",
     "checksum": "3d38ec262531d68f0121c96891af8042",
     "grade": true,
     "grade_id": "cell-589ea9f68dc61029",
     "locked": false,
     "points": 0,
     "schema_version": 3,
     "solution": true,
     "task": false
    }
   },
   "outputs": [],
   "source": [
    "# YOUR CODE HERE\n",
    "raise NotImplementedError()"
   ]
  }
 ],
 "metadata": {
  "interpreter": {
   "hash": "1f249ec925ce4e150f1f00585c0a724a833d5f2a7ba7da4c93b858ce16dfa983"
  },
  "kernelspec": {
   "display_name": "Python 3 (ipykernel)",
   "language": "python",
   "name": "python3"
  },
  "language_info": {
   "codemirror_mode": {
    "name": "ipython",
    "version": 3
   },
   "file_extension": ".py",
   "mimetype": "text/x-python",
   "name": "python",
   "nbconvert_exporter": "python",
   "pygments_lexer": "ipython3",
   "version": "3.8.9"
  },
  "toc-autonumbering": true,
  "toc-showcode": false,
  "toc-showmarkdowntxt": false,
  "toc-showtags": false
 },
 "nbformat": 4,
 "nbformat_minor": 5
}
